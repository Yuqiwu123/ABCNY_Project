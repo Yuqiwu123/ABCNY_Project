{
 "cells": [
  {
   "cell_type": "markdown",
   "id": "e8fd9c21-d05a-4824-b366-e30f7856c385",
   "metadata": {},
   "source": [
    "## UID-38"
   ]
  },
  {
   "cell_type": "code",
   "execution_count": 9,
   "id": "0528b356-e224-4735-8f01-12f1f8b67e2e",
   "metadata": {},
   "outputs": [],
   "source": [
    "import pandas as pd\n",
    "from test_case_generator_functions import separate_words_in_name_2, separate_words_in_name_3\n",
    "import numpy as np\n",
    "import names"
   ]
  },
  {
   "cell_type": "code",
   "execution_count": 10,
   "id": "79f5aa64-22fb-4c07-b011-4d46e086c9c0",
   "metadata": {},
   "outputs": [],
   "source": [
    "uid = 'UID-38' \n",
    "theme = 'Name Additions'\n",
    "category = 'Middle Name'\n",
    "sub_category = '2 Miidle Names added '\n",
    "entity_type = 'Individual'"
   ]
  },
  {
   "cell_type": "code",
   "execution_count": null,
   "id": "52392e19-83f3-491c-9dd9-d013521f0fe0",
   "metadata": {},
   "outputs": [],
   "source": [
    "ofac_list_download = pd.read_csv('https://www.treasury.gov/ofac/downloads/sdn.csv', header=None)\n",
    "ofac_list_download"
   ]
  },
  {
   "cell_type": "code",
   "execution_count": null,
   "id": "779f65e5-5561-4097-9dcd-7f3405a4c537",
   "metadata": {},
   "outputs": [],
   "source": [
    "ofac_list = ofac_list_download[[0,1,2]]\n",
    "ofac_list.columns = ['uid', 'name', 'entity_type']\n",
    "ofac_list"
   ]
  },
  {
   "cell_type": "code",
   "execution_count": null,
   "id": "61ce122a-3b54-4e09-9382-cf111be763b6",
   "metadata": {},
   "outputs": [],
   "source": [
    "ofac_list['entity_type'].value_counts()"
   ]
  },
  {
   "cell_type": "code",
   "execution_count": null,
   "id": "2c1f50f2-8068-4447-8685-586dc76d4f2f",
   "metadata": {},
   "outputs": [],
   "source": [
    "ofac_list_filtered = ofac_list[(ofac_list.entity_type == 'individual')] # only evaluate Individual\n",
    "ofac_list_filtered"
   ]
  },
  {
   "cell_type": "code",
   "execution_count": null,
   "id": "6614a016-567f-4abe-a426-96283a439364",
   "metadata": {},
   "outputs": [],
   "source": [
    "ofac_list_sampled = ofac_list_filtered.sample(n = 10)\n",
    "ofac_list_sampled"
   ]
  },
  {
   "cell_type": "markdown",
   "id": "c5da8ef1-1b4f-4332-9017-d8aed1db5989",
   "metadata": {},
   "source": [
    "## CREATE THE TEST CASES"
   ]
  },
  {
   "cell_type": "code",
   "execution_count": null,
   "id": "27f6ad7f-7626-4997-8411-fb67640e17fd",
   "metadata": {},
   "outputs": [],
   "source": [
    "final_test_cases = pd.DataFrame(columns=['UID', 'Theme','Category','Sub-category','Entity-Type','Test Case ID' , 'OFAC List UID', 'Original Name','Test Case Name'])\n",
    "final_test_cases"
   ]
  },
  {
   "cell_type": "code",
   "execution_count": null,
   "id": "9c4f1a70-9da8-489a-8a02-73e5e22717f7",
   "metadata": {},
   "outputs": [],
   "source": [
    "for index, row in ofac_list_sampled.iterrows():\n",
    "        \n",
    "    final_test_name = names.get_last_name() + \" \" + names.get_last_name() + \" \" + row['name']\n",
    "    final_test_cases.loc[len(final_test_cases)] = [uid, theme, category, sub_category, entity_type, uid + ' - ' + str(index), row['uid'], row['name'], final_test_name] # append to the dataframe\n",
    "    \n",
    "\n",
    "final_test_cases\n",
    "    \n",
    "    "
   ]
  },
  {
   "cell_type": "code",
   "execution_count": null,
   "id": "086a91d0-373b-42c9-9167-81c69a810ffb",
   "metadata": {},
   "outputs": [],
   "source": []
  },
  {
   "cell_type": "code",
   "execution_count": null,
   "id": "0843968d-4223-43e2-80c1-b0e94cbaa9b8",
   "metadata": {},
   "outputs": [],
   "source": []
  },
  {
   "cell_type": "code",
   "execution_count": null,
   "id": "d9b2f5a0-f8b0-4abc-800f-e6c7c99a8acc",
   "metadata": {},
   "outputs": [],
   "source": []
  }
 ],
 "metadata": {
  "kernelspec": {
   "display_name": "Python 3",
   "language": "python",
   "name": "python3"
  },
  "language_info": {
   "codemirror_mode": {
    "name": "ipython",
    "version": 3
   },
   "file_extension": ".py",
   "mimetype": "text/x-python",
   "name": "python",
   "nbconvert_exporter": "python",
   "pygments_lexer": "ipython3",
   "version": "3.8.8"
  }
 },
 "nbformat": 4,
 "nbformat_minor": 5
}
